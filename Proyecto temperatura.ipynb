{
  "nbformat": 4,
  "nbformat_minor": 0,
  "metadata": {
    "colab": {
      "provenance": [],
      "authorship_tag": "ABX9TyMOi94tCskhFpUCLCAzOSq6",
      "include_colab_link": true
    },
    "kernelspec": {
      "name": "python3",
      "display_name": "Python 3"
    },
    "language_info": {
      "name": "python"
    }
  },
  "cells": [
    {
      "cell_type": "markdown",
      "metadata": {
        "id": "view-in-github",
        "colab_type": "text"
      },
      "source": [
        "<a href=\"https://colab.research.google.com/github/CarloPadilla1/inteligencia-artificial/blob/main/Untitled0.ipynb\" target=\"_parent\"><img src=\"https://colab.research.google.com/assets/colab-badge.svg\" alt=\"Open In Colab\"/></a>"
      ]
    },
    {
      "cell_type": "code",
      "execution_count": null,
      "metadata": {
        "id": "uK1y0IKxOmJe"
      },
      "outputs": [],
      "source": [
        "import tensorflow as tf\n",
        "import numpy as np\n"
      ]
    },
    {
      "cell_type": "code",
      "source": [
        "celsius  = np.array([-40,-10, 0, 8, 15, 22, 38], dtype=float)\n",
        "fahrenheit  = np.array([-40, 14, 32, 46, 59, 72, 100], dtype=float)"
      ],
      "metadata": {
        "id": "ZhGw3ccHO8G5"
      },
      "execution_count": null,
      "outputs": []
    },
    {
      "cell_type": "code",
      "source": [
        "capa = tf.keras.layers.Dense(units=1, input_shape=[1])\n",
        "modelo =  tf.keras.Sequential([capa])\n"
      ],
      "metadata": {
        "id": "Z3mEVrrjQL2m"
      },
      "execution_count": null,
      "outputs": []
    },
    {
      "cell_type": "code",
      "source": [
        "modelo.compile(\n",
        "    optimizer=tf.keras.optimizers.Adam(0.1),\n",
        "    loss = 'mean_squared_error' \n",
        ")"
      ],
      "metadata": {
        "id": "A6wo_rLJQiJj"
      },
      "execution_count": null,
      "outputs": []
    },
    {
      "cell_type": "code",
      "source": [
        "print (\"Comenzando entrenamiento\")\n",
        "historial = modelo.fit(celsius, fahrenheit, epochs=1000, verbose=False)\n",
        "print (\"Modelo entrenado\")"
      ],
      "metadata": {
        "id": "JIeKjvbnRoN_"
      },
      "execution_count": null,
      "outputs": []
    },
    {
      "cell_type": "code",
      "source": [
        "import matplotlib.pyplot as plt\n",
        "plt.xlabel(\"# Epoca\")\n",
        "plt.ylabel(\"Magnitud perdida\")\n",
        "plt.plot(historial.history[\"loss\"])"
      ],
      "metadata": {
        "id": "IxuId5hJSOg9"
      },
      "execution_count": null,
      "outputs": []
    },
    {
      "cell_type": "code",
      "source": [
        "print(\"Hagamos una prediccion\")\n",
        "resultado = modelo.predict([100.0])\n",
        "print(\"El resultado es\"+ str(resultado)+\" fahrenheit\")"
      ],
      "metadata": {
        "id": "EAYMNmVQWfeI"
      },
      "execution_count": null,
      "outputs": []
    },
    {
      "cell_type": "code",
      "source": [
        "print (\"Variables internas del modelo\")\n",
        "print (capa.get_weights())"
      ],
      "metadata": {
        "id": "2NDH4Ip8XZAn"
      },
      "execution_count": null,
      "outputs": []
    }
  ]
}
